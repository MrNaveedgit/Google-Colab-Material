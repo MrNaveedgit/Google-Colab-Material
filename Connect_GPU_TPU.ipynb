{
  "nbformat": 4,
  "nbformat_minor": 0,
  "metadata": {
    "colab": {
      "name": "Connect GPU/TPU.ipynb",
      "provenance": []
    },
    "kernelspec": {
      "name": "python3",
      "display_name": "Python 3"
    },
    "language_info": {
      "name": "python"
    },
    "accelerator": "GPU"
  },
  "cells": [
    {
      "cell_type": "code",
      "source": [
        "import tensorflow as tf\n",
        "\n",
        "tf.test.gpu_device_name()"
      ],
      "metadata": {
        "colab": {
          "base_uri": "https://localhost:8080/",
          "height": 35
        },
        "id": "auAhf5QpV5cC",
        "outputId": "67f0cb2d-b033-43c5-f8d6-3e5a8bef0ab3"
      },
      "execution_count": 1,
      "outputs": [
        {
          "output_type": "execute_result",
          "data": {
            "text/plain": [
              "'/device:GPU:0'"
            ],
            "application/vnd.google.colaboratory.intrinsic+json": {
              "type": "string"
            }
          },
          "metadata": {},
          "execution_count": 1
        }
      ]
    },
    {
      "cell_type": "markdown",
      "source": [
        "## Listing all Devices\n"
      ],
      "metadata": {
        "id": "QIQWUhaXWISz"
      }
    },
    {
      "cell_type": "code",
      "source": [
        "from tensorflow.python.client import device_lib\n",
        "\n",
        "device_lib.list_local_devices()"
      ],
      "metadata": {
        "colab": {
          "base_uri": "https://localhost:8080/"
        },
        "id": "TgPRm9PbWMSN",
        "outputId": "4bfd8c01-bd99-463e-b75c-42bea4572f09"
      },
      "execution_count": 2,
      "outputs": [
        {
          "output_type": "execute_result",
          "data": {
            "text/plain": [
              "[name: \"/device:CPU:0\"\n",
              " device_type: \"CPU\"\n",
              " memory_limit: 268435456\n",
              " locality {\n",
              " }\n",
              " incarnation: 12205041839545666483\n",
              " xla_global_id: -1, name: \"/device:GPU:0\"\n",
              " device_type: \"GPU\"\n",
              " memory_limit: 11320098816\n",
              " locality {\n",
              "   bus_id: 1\n",
              "   links {\n",
              "   }\n",
              " }\n",
              " incarnation: 8081670369151177430\n",
              " physical_device_desc: \"device: 0, name: Tesla K80, pci bus id: 0000:00:04.0, compute capability: 3.7\"\n",
              " xla_global_id: 416903419]"
            ]
          },
          "metadata": {},
          "execution_count": 2
        }
      ]
    },
    {
      "cell_type": "markdown",
      "source": [
        "## Checking RAM"
      ],
      "metadata": {
        "id": "EuED6KSkWXur"
      }
    },
    {
      "cell_type": "code",
      "source": [
        "!cat /proc/meminfo"
      ],
      "metadata": {
        "colab": {
          "base_uri": "https://localhost:8080/"
        },
        "id": "5O-x0FgjWSpQ",
        "outputId": "14f926c7-6e71-4587-9c3c-aeb7edddff85"
      },
      "execution_count": 3,
      "outputs": [
        {
          "output_type": "stream",
          "name": "stdout",
          "text": [
            "MemTotal:       13302920 kB\n",
            "MemFree:         9276172 kB\n",
            "MemAvailable:   11791208 kB\n",
            "Buffers:          113996 kB\n",
            "Cached:          2409272 kB\n",
            "SwapCached:            0 kB\n",
            "Active:          1530608 kB\n",
            "Inactive:        2171644 kB\n",
            "Active(anon):     987196 kB\n",
            "Inactive(anon):     2524 kB\n",
            "Active(file):     543412 kB\n",
            "Inactive(file):  2169120 kB\n",
            "Unevictable:           0 kB\n",
            "Mlocked:               0 kB\n",
            "SwapTotal:             0 kB\n",
            "SwapFree:              0 kB\n",
            "Dirty:              1176 kB\n",
            "Writeback:            32 kB\n",
            "AnonPages:       1178912 kB\n",
            "Mapped:           662164 kB\n",
            "Shmem:              3244 kB\n",
            "KReclaimable:      87956 kB\n",
            "Slab:             141640 kB\n",
            "SReclaimable:      87956 kB\n",
            "SUnreclaim:        53684 kB\n",
            "KernelStack:        5184 kB\n",
            "PageTables:        14316 kB\n",
            "NFS_Unstable:          0 kB\n",
            "Bounce:                0 kB\n",
            "WritebackTmp:          0 kB\n",
            "CommitLimit:     6651460 kB\n",
            "Committed_AS:    3728192 kB\n",
            "VmallocTotal:   34359738367 kB\n",
            "VmallocUsed:       46892 kB\n",
            "VmallocChunk:          0 kB\n",
            "Percpu:             1448 kB\n",
            "AnonHugePages:         0 kB\n",
            "ShmemHugePages:        0 kB\n",
            "ShmemPmdMapped:        0 kB\n",
            "FileHugePages:         0 kB\n",
            "FilePmdMapped:         0 kB\n",
            "CmaTotal:              0 kB\n",
            "CmaFree:               0 kB\n",
            "HugePages_Total:       0\n",
            "HugePages_Free:        0\n",
            "HugePages_Rsvd:        0\n",
            "HugePages_Surp:        0\n",
            "Hugepagesize:       2048 kB\n",
            "Hugetlb:               0 kB\n",
            "DirectMap4k:      201536 kB\n",
            "DirectMap2M:     5038080 kB\n",
            "DirectMap1G:    10485760 kB\n"
          ]
        }
      ]
    },
    {
      "cell_type": "code",
      "source": [
        ""
      ],
      "metadata": {
        "id": "Nd97sATgWcoA"
      },
      "execution_count": null,
      "outputs": []
    }
  ]
}